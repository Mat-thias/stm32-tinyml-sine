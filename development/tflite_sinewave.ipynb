{
 "cells": [
  {
   "cell_type": "markdown",
   "metadata": {},
   "source": [
    "# SINE WAVE MODEL\n",
    "This script is to develop a model to predict the sine of a value. The model is deployed to a stm32 board (nucleo-l476rg). The model is converted to a tflite model to be run with the tensorflowlite-micro tflm frame work."
   ]
  },
  {
   "cell_type": "markdown",
   "metadata": {},
   "source": [
    "## Importing the needed library"
   ]
  },
  {
   "cell_type": "code",
   "execution_count": null,
   "metadata": {},
   "outputs": [],
   "source": [
    "import numpy as np\n",
    "import matplotlib.pyplot as plt\n",
    "import tensorflow as tf"
   ]
  },
  {
   "cell_type": "markdown",
   "metadata": {},
   "source": [
    "## Defining necessary libraries"
   ]
  },
  {
   "cell_type": "code",
   "execution_count": null,
   "metadata": {},
   "outputs": [],
   "source": [
    "SAMPLE_SIZE = 1_000\n",
    "RANDOM_SEED = 25\n",
    "PI = 3.14159265359\n",
    "\n",
    "MODEL_FILE_NAME = \"SINE_MODEL\"\n",
    "C_HEADER_DIR = \"../deployment/\"\n",
    "\n",
    "train_ratio = .7\n",
    "test_ratio = .2\n",
    "validation_ratio = .1"
   ]
  },
  {
   "cell_type": "markdown",
   "metadata": {},
   "source": [
    "## Generating the dataset\n",
    "The data will contain numbers between 0 and 2pi, the sine function will be defined in rad.\n",
    "A random uniform error is added to the sine values to give the dataset a bit of variability and see how the model will perform.\n",
    "The error is centred with a mean of 0 and std 0f 0.05. This is chosen such that 95% of the error is -0.1 and 0.+1."
   ]
  },
  {
   "cell_type": "code",
   "execution_count": null,
   "metadata": {},
   "outputs": [],
   "source": [
    "np.random.seed(RANDOM_SEED) # for reproduction\n",
    "x = np.random.uniform(low=0, high=2*PI, size=SAMPLE_SIZE)\n",
    "y = np.sin(x) + np.random.normal(0, 0.05, size=SAMPLE_SIZE)\n",
    "x.shape, y.shape"
   ]
  },
  {
   "cell_type": "markdown",
   "metadata": {},
   "source": [
    "### Plot of the data\n",
    "1. The distribution of the imput data.\n",
    "2. The relationship between the output y and x i.e. the sine curve."
   ]
  },
  {
   "cell_type": "code",
   "execution_count": null,
   "metadata": {},
   "outputs": [],
   "source": [
    "fig, axes = plt.subplots(1, 2, figsize=(16,6))\n",
    "\n",
    "axes[0].hist(x, bins=20)\n",
    "axes[0].set_title(\"Distribution of the datapionts.\")\n",
    "axes[0].set_xlabel(\"x\")\n",
    "axes[0].set_ylabel(\"frequency\")\n",
    "\n",
    "\n",
    "axes[1].scatter(x,y, marker=\".\")\n",
    "axes[1].set_title(\"The relationship of the x and sine(x)\")\n",
    "axes[1].set_ylabel(\"sin(x)\")\n",
    "axes[1].set_xlabel(\"x\")\n",
    "\n",
    "plt.show()"
   ]
  },
  {
   "cell_type": "markdown",
   "metadata": {},
   "source": [
    "## Preparing the data for training"
   ]
  },
  {
   "cell_type": "code",
   "execution_count": null,
   "metadata": {},
   "outputs": [],
   "source": [
    "# x_train = x[:SAMPLE_SIZE * train_ratio]\n",
    "# y_train = y[:SAMPLE_SIZE * train_ratio]\n",
    "\n",
    "# x_test = x[SAMPLE_SIZE * train_ratio : SAMPLE_SIZE * test_ratio]\n",
    "# y_test = y[SAMPLE_SIZE * train_ratio : SAMPLE_SIZE * test_ratio]\n",
    "\n",
    "# x_validate = x[SAMPLE_SIZE * (1 - validation_ratio):]\n",
    "# y_validate = y[SAMPLE_SIZE * (1 - validation_ratio):]\n",
    "\n",
    "x_train, x_test, x_validate = np.split(x, [int(train_ratio*SAMPLE_SIZE), int((train_ratio+test_ratio)*SAMPLE_SIZE)])\n",
    "y_train, y_test, y_validate = np.split(y, [int(train_ratio*SAMPLE_SIZE), int((train_ratio+test_ratio)*SAMPLE_SIZE)])"
   ]
  },
  {
   "cell_type": "markdown",
   "metadata": {},
   "source": [
    "### Make a plot to show to distribution of the training, testing and validation data."
   ]
  },
  {
   "cell_type": "code",
   "execution_count": null,
   "metadata": {},
   "outputs": [],
   "source": [
    "plt.scatter(x_train, y_train,marker=\".\", label=\"Train\")\n",
    "plt.scatter(x_test, y_test, marker=\".\", label=\"Test\")\n",
    "plt.scatter(x_validate, y_validate, marker=\".\", label=\"Validate\")\n",
    "\n",
    "plt.title(\"sin(x) vs x\")\n",
    "plt.xlabel(\"x\")\n",
    "plt.ylabel(\"sin(x)\")\n",
    "plt.legend()\n",
    "plt.show()"
   ]
  },
  {
   "cell_type": "markdown",
   "metadata": {},
   "source": [
    "## Model Definition\n",
    "A simple  model will be used to test the framework. A 2 [hidden] layer model with the following:\n",
    "- Input layer -> 1 neuron\n",
    "- Hidden layer 1 -> 32 neurons\n",
    "- Hidden layer 2 -> 16 neurons\n",
    "- Output layer -> 1 neuron"
   ]
  },
  {
   "cell_type": "code",
   "execution_count": null,
   "metadata": {},
   "outputs": [],
   "source": [
    "sine_model = tf.keras.Sequential([\n",
    "    tf.keras.layers.Dense(32, activation=\"relu\", input_shape=(1,)),\n",
    "    tf.keras.layers.Dense(16, activation=\"relu\"),\n",
    "    tf.keras.layers.Dense(1)\n",
    "])"
   ]
  },
  {
   "cell_type": "code",
   "execution_count": null,
   "metadata": {},
   "outputs": [],
   "source": [
    "sine_model.summary()"
   ]
  },
  {
   "cell_type": "code",
   "execution_count": null,
   "metadata": {},
   "outputs": [],
   "source": [
    "sine_model.compile(optimizer=\"adam\", loss=\"mse\", metrics=[\"mae\"])\n",
    "history = sine_model.fit(x_train, y_train, batch_size=100, epochs=500, validation_data=(x_validate, y_validate))"
   ]
  },
  {
   "cell_type": "markdown",
   "metadata": {},
   "source": [
    "## Training Plot"
   ]
  },
  {
   "cell_type": "code",
   "execution_count": null,
   "metadata": {},
   "outputs": [],
   "source": [
    "fig, axes = plt.subplots( 1, 2, figsize=(16,6))\n",
    "\n",
    "axes[0].plot(history.history[\"loss\"], label=\"training_loss\")\n",
    "axes[0].plot(history.history[\"val_loss\"], label=\"validation_loss\")\n",
    "axes[0].set_title(\"Model loss\")\n",
    "axes[0].set_xlabel(\"epoch\")\n",
    "axes[0].set_ylabel(\"loss (mse)\")\n",
    "\n",
    "axes[1].plot(history.history[\"mae\"], label=\"training_mae\")\n",
    "axes[1].plot(history.history[\"val_mae\"], label=\"validation_loss\")\n",
    "axes[1].set_title(\"Model MAE\")\n",
    "axes[1].set_xlabel(\"epoch\")\n",
    "axes[1].set_ylabel(\"mae\")"
   ]
  },
  {
   "cell_type": "markdown",
   "metadata": {},
   "source": [
    "## Testing the model"
   ]
  },
  {
   "cell_type": "code",
   "execution_count": null,
   "metadata": {},
   "outputs": [],
   "source": [
    "y_test_predict = sine_model.predict(x_test)\n",
    "y_test_true = np.sin(x_test)\n",
    "\n",
    "plt.scatter(x_test, y_test_predict, marker=\".\", label=\"True value\")\n",
    "plt.scatter(x_test, y_test_true, marker=\".\", label=\"Predicted value\")\n",
    "plt.title(\"Prediction and True Values\")\n",
    "plt.ylabel(\"sin(x)\")\n",
    "plt.xlabel(\"x\")\n",
    "plt.legend()"
   ]
  },
  {
   "cell_type": "markdown",
   "metadata": {},
   "source": [
    "## Converting the model to tflite"
   ]
  },
  {
   "cell_type": "code",
   "execution_count": null,
   "metadata": {},
   "outputs": [],
   "source": [
    "converter = tf.lite.TFLiteConverter.from_keras_model(sine_model)\n",
    "converter.optimizations = [tf.lite.Optimize.OPTIMIZE_FOR_SIZE]\n",
    "sine_tflite_model = converter.convert()"
   ]
  },
  {
   "cell_type": "markdown",
   "metadata": {},
   "source": [
    "## Converting the model to the c format"
   ]
  },
  {
   "cell_type": "code",
   "execution_count": null,
   "metadata": {},
   "outputs": [],
   "source": [
    "# Breaking the byte in several lines to fit better in the c header file\n",
    "sine_tflite_model_split_line = np.array_split([format(hex_value, '#04x') for hex_value in sine_tflite_model], len(sine_tflite_model)//8)\n",
    "\n",
    "# Write TfLite model to a C header file\n",
    "open(f\"{C_HEADER_DIR}{MODEL_FILE_NAME}.h\", \"w\").write(\n",
    "f\"\"\"\n",
    "#ifndef {MODEL_FILE_NAME.upper()}_H\n",
    "#define {MODEL_FILE_NAME.upper()}_H\n",
    "\n",
    "const unsigned int {MODEL_FILE_NAME.lower()}_len = {len(sine_tflite_model)};\n",
    "\n",
    "const unsigned char {MODEL_FILE_NAME.lower()}[{len(sine_tflite_model)}] = {{\n",
    "    {\",\\n    \".join([\", \".join(line) for line in sine_tflite_model_split_line])}\n",
    "}};\n",
    "\n",
    "#endif // {MODEL_FILE_NAME.upper()}_H\n",
    "\"\"\"\n",
    ")\n",
    "\n",
    "# Saving the TfLite model\n",
    "open(f\"{MODEL_FILE_NAME}.tflite\", \"wb\").write(sine_tflite_model)"
   ]
  },
  {
   "cell_type": "markdown",
   "metadata": {},
   "source": [
    "## Testing the converted tflite model"
   ]
  },
  {
   "cell_type": "code",
   "execution_count": null,
   "metadata": {
    "colab": {
     "base_uri": "https://localhost:8080/"
    },
    "executionInfo": {
     "elapsed": 12,
     "status": "ok",
     "timestamp": 1746777647092,
     "user": {
      "displayName": "Opegbemi Matthias Busoye",
      "userId": "11326417824954872030"
     },
     "user_tz": -60
    },
    "id": "8UoXTEYjkeC4",
    "outputId": "3f76725b-cacc-4d20-8d90-b5c5e951eb24"
   },
   "outputs": [],
   "source": [
    "interpreter = tf.lite.Interpreter(model_path=f\"{MODEL_FILE_NAME}.tflite\")\n",
    "interpreter.allocate_tensors()\n",
    "\n",
    "# Get input and output tensors\n",
    "input_details = interpreter.get_input_details()\n",
    "output_details = interpreter.get_output_details()\n",
    "\n",
    "y_test_tflite_predict = []\n",
    "for x_ in x_test:\n",
    "  # Set input tensor\n",
    "  interpreter.set_tensor(input_details[0]['index'], np.array([[x_]], dtype=np.float32))\n",
    "\n",
    "  # Run the inference\n",
    "  interpreter.invoke()\n",
    "\n",
    "  y_test_tflite_predict.append(interpreter.get_tensor(output_details[0]['index']))\n",
    "\n",
    "y_test_tflite_predict = np.array(y_test_tflite_predict)\n"
   ]
  },
  {
   "cell_type": "code",
   "execution_count": null,
   "metadata": {
    "executionInfo": {
     "elapsed": 12,
     "status": "ok",
     "timestamp": 1746777647105,
     "user": {
      "displayName": "Opegbemi Matthias Busoye",
      "userId": "11326417824954872030"
     },
     "user_tz": -60
    },
    "id": "85kFVBz7lAPj"
   },
   "outputs": [],
   "source": [
    "y_test_predict = sine_model.predict(x_test)\n",
    "y_test_true = np.sin(x_test)\n",
    "\n",
    "mae_orginal_model = np.sum(np.abs(y_test_predict - y_test)) / y_test.shape[0]\n",
    "mae_converted_model = np.sum(np.abs(y_test_tflite_predict - y_test)) / y_test.shape[0]\n",
    "\n",
    "fig, axes = plt.subplots(1, 2, figsize=(16,6)s)\n",
    "\n",
    "axes[0].scatter(x_test, y_test_tflite_predict, marker=\".\", label=\"True value\")\n",
    "axes[0].scatter(x_test, y_test_true, marker=\".\", label=\"Predicted value\")\n",
    "axes[0].set_title(\"Prediction and True Values\")\n",
    "axes[0].set_ylabel(\"sin(x)\")\n",
    "axes[0].set_xlabel(\"x\")\n",
    "axes[0].legend()\n",
    "\n",
    "axes[1].bar([\"orginal model\", \"converted model\"], [mae_orginal_model, mae_converted_model])\n",
    "axes[1].set_title(\"The effect of coversion to model accuracy\")\n",
    "axes[1].set_ylabel(\"mae\")\n",
    "axes[1].set_xlabel(\"model type\")\n"
   ]
  }
 ],
 "metadata": {
  "colab": {
   "authorship_tag": "ABX9TyOqOOwmv98kfg/s2CI2HOPv",
   "provenance": []
  },
  "kernelspec": {
   "display_name": "ml_env",
   "language": "python",
   "name": "python3"
  },
  "language_info": {
   "codemirror_mode": {
    "name": "ipython",
    "version": 3
   },
   "file_extension": ".py",
   "mimetype": "text/x-python",
   "name": "python",
   "nbconvert_exporter": "python",
   "pygments_lexer": "ipython3",
   "version": "3.12.3"
  }
 },
 "nbformat": 4,
 "nbformat_minor": 0
}
